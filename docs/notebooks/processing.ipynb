{
 "cells": [
  {
   "cell_type": "code",
   "execution_count": 1,
   "id": "49ef0547",
   "metadata": {},
   "outputs": [
    {
     "name": "stderr",
     "output_type": "stream",
     "text": [
      "c:\\Users\\gusta\\RedesNeurais\\neural-network-project\\venv\\Lib\\site-packages\\tqdm\\auto.py:21: TqdmWarning: IProgress not found. Please update jupyter and ipywidgets. See https://ipywidgets.readthedocs.io/en/stable/user_install.html\n",
      "  from .autonotebook import tqdm as notebook_tqdm\n"
     ]
    }
   ],
   "source": [
    "import kagglehub\n",
    "import pandas as pd\n",
    "from sklearn.preprocessing import StandardScaler\n",
    "import os"
   ]
  },
  {
   "cell_type": "code",
   "execution_count": 2,
   "id": "6dd6c8d2",
   "metadata": {},
   "outputs": [
    {
     "name": "stdout",
     "output_type": "stream",
     "text": [
      "Downloading from https://www.kaggle.com/api/v1/datasets/download/teejmahal20/airline-passenger-satisfaction?dataset_version_number=1...\n"
     ]
    },
    {
     "name": "stderr",
     "output_type": "stream",
     "text": [
      "100%|██████████| 2.71M/2.71M [00:01<00:00, 2.39MB/s]"
     ]
    },
    {
     "name": "stdout",
     "output_type": "stream",
     "text": [
      "Extracting files...\n"
     ]
    },
    {
     "name": "stderr",
     "output_type": "stream",
     "text": [
      "\n"
     ]
    }
   ],
   "source": [
    "# Download\n",
    "path = kagglehub.dataset_download(\"teejmahal20/airline-passenger-satisfaction\")\n",
    "df = pd.read_csv(os.path.join(path, \"train.csv\"), index_col=0, header=0)"
   ]
  },
  {
   "cell_type": "code",
   "execution_count": 3,
   "id": "2c0bddab",
   "metadata": {},
   "outputs": [
    {
     "data": {
      "application/vnd.microsoft.datawrangler.viewer.v0+json": {
       "columns": [
        {
         "name": "index",
         "rawType": "int64",
         "type": "integer"
        },
        {
         "name": "id",
         "rawType": "int64",
         "type": "integer"
        },
        {
         "name": "Gender",
         "rawType": "object",
         "type": "string"
        },
        {
         "name": "Customer Type",
         "rawType": "object",
         "type": "string"
        },
        {
         "name": "Age",
         "rawType": "int64",
         "type": "integer"
        },
        {
         "name": "Type of Travel",
         "rawType": "object",
         "type": "string"
        },
        {
         "name": "Class",
         "rawType": "object",
         "type": "string"
        },
        {
         "name": "Flight Distance",
         "rawType": "int64",
         "type": "integer"
        },
        {
         "name": "Inflight wifi service",
         "rawType": "int64",
         "type": "integer"
        },
        {
         "name": "Departure/Arrival time convenient",
         "rawType": "int64",
         "type": "integer"
        },
        {
         "name": "Ease of Online booking",
         "rawType": "int64",
         "type": "integer"
        },
        {
         "name": "Gate location",
         "rawType": "int64",
         "type": "integer"
        },
        {
         "name": "Food and drink",
         "rawType": "int64",
         "type": "integer"
        },
        {
         "name": "Online boarding",
         "rawType": "int64",
         "type": "integer"
        },
        {
         "name": "Seat comfort",
         "rawType": "int64",
         "type": "integer"
        },
        {
         "name": "Inflight entertainment",
         "rawType": "int64",
         "type": "integer"
        },
        {
         "name": "On-board service",
         "rawType": "int64",
         "type": "integer"
        },
        {
         "name": "Leg room service",
         "rawType": "int64",
         "type": "integer"
        },
        {
         "name": "Baggage handling",
         "rawType": "int64",
         "type": "integer"
        },
        {
         "name": "Checkin service",
         "rawType": "int64",
         "type": "integer"
        },
        {
         "name": "Inflight service",
         "rawType": "int64",
         "type": "integer"
        },
        {
         "name": "Cleanliness",
         "rawType": "int64",
         "type": "integer"
        },
        {
         "name": "Departure Delay in Minutes",
         "rawType": "int64",
         "type": "integer"
        },
        {
         "name": "Arrival Delay in Minutes",
         "rawType": "float64",
         "type": "float"
        },
        {
         "name": "satisfaction",
         "rawType": "object",
         "type": "string"
        }
       ],
       "ref": "4c450003-3bd3-4164-900b-fd7869f08c61",
       "rows": [
        [
         "0",
         "70172",
         "Male",
         "Loyal Customer",
         "13",
         "Personal Travel",
         "Eco Plus",
         "460",
         "3",
         "4",
         "3",
         "1",
         "5",
         "3",
         "5",
         "5",
         "4",
         "3",
         "4",
         "4",
         "5",
         "5",
         "25",
         "18.0",
         "neutral or dissatisfied"
        ],
        [
         "1",
         "5047",
         "Male",
         "disloyal Customer",
         "25",
         "Business travel",
         "Business",
         "235",
         "3",
         "2",
         "3",
         "3",
         "1",
         "3",
         "1",
         "1",
         "1",
         "5",
         "3",
         "1",
         "4",
         "1",
         "1",
         "6.0",
         "neutral or dissatisfied"
        ],
        [
         "2",
         "110028",
         "Female",
         "Loyal Customer",
         "26",
         "Business travel",
         "Business",
         "1142",
         "2",
         "2",
         "2",
         "2",
         "5",
         "5",
         "5",
         "5",
         "4",
         "3",
         "4",
         "4",
         "4",
         "5",
         "0",
         "0.0",
         "satisfied"
        ],
        [
         "3",
         "24026",
         "Female",
         "Loyal Customer",
         "25",
         "Business travel",
         "Business",
         "562",
         "2",
         "5",
         "5",
         "5",
         "2",
         "2",
         "2",
         "2",
         "2",
         "5",
         "3",
         "1",
         "4",
         "2",
         "11",
         "9.0",
         "neutral or dissatisfied"
        ],
        [
         "4",
         "119299",
         "Male",
         "Loyal Customer",
         "61",
         "Business travel",
         "Business",
         "214",
         "3",
         "3",
         "3",
         "3",
         "4",
         "5",
         "5",
         "3",
         "3",
         "4",
         "4",
         "3",
         "3",
         "3",
         "0",
         "0.0",
         "satisfied"
        ]
       ],
       "shape": {
        "columns": 24,
        "rows": 5
       }
      },
      "text/html": [
       "<div>\n",
       "<style scoped>\n",
       "    .dataframe tbody tr th:only-of-type {\n",
       "        vertical-align: middle;\n",
       "    }\n",
       "\n",
       "    .dataframe tbody tr th {\n",
       "        vertical-align: top;\n",
       "    }\n",
       "\n",
       "    .dataframe thead th {\n",
       "        text-align: right;\n",
       "    }\n",
       "</style>\n",
       "<table border=\"1\" class=\"dataframe\">\n",
       "  <thead>\n",
       "    <tr style=\"text-align: right;\">\n",
       "      <th></th>\n",
       "      <th>id</th>\n",
       "      <th>Gender</th>\n",
       "      <th>Customer Type</th>\n",
       "      <th>Age</th>\n",
       "      <th>Type of Travel</th>\n",
       "      <th>Class</th>\n",
       "      <th>Flight Distance</th>\n",
       "      <th>Inflight wifi service</th>\n",
       "      <th>Departure/Arrival time convenient</th>\n",
       "      <th>Ease of Online booking</th>\n",
       "      <th>...</th>\n",
       "      <th>Inflight entertainment</th>\n",
       "      <th>On-board service</th>\n",
       "      <th>Leg room service</th>\n",
       "      <th>Baggage handling</th>\n",
       "      <th>Checkin service</th>\n",
       "      <th>Inflight service</th>\n",
       "      <th>Cleanliness</th>\n",
       "      <th>Departure Delay in Minutes</th>\n",
       "      <th>Arrival Delay in Minutes</th>\n",
       "      <th>satisfaction</th>\n",
       "    </tr>\n",
       "  </thead>\n",
       "  <tbody>\n",
       "    <tr>\n",
       "      <th>0</th>\n",
       "      <td>70172</td>\n",
       "      <td>Male</td>\n",
       "      <td>Loyal Customer</td>\n",
       "      <td>13</td>\n",
       "      <td>Personal Travel</td>\n",
       "      <td>Eco Plus</td>\n",
       "      <td>460</td>\n",
       "      <td>3</td>\n",
       "      <td>4</td>\n",
       "      <td>3</td>\n",
       "      <td>...</td>\n",
       "      <td>5</td>\n",
       "      <td>4</td>\n",
       "      <td>3</td>\n",
       "      <td>4</td>\n",
       "      <td>4</td>\n",
       "      <td>5</td>\n",
       "      <td>5</td>\n",
       "      <td>25</td>\n",
       "      <td>18.0</td>\n",
       "      <td>neutral or dissatisfied</td>\n",
       "    </tr>\n",
       "    <tr>\n",
       "      <th>1</th>\n",
       "      <td>5047</td>\n",
       "      <td>Male</td>\n",
       "      <td>disloyal Customer</td>\n",
       "      <td>25</td>\n",
       "      <td>Business travel</td>\n",
       "      <td>Business</td>\n",
       "      <td>235</td>\n",
       "      <td>3</td>\n",
       "      <td>2</td>\n",
       "      <td>3</td>\n",
       "      <td>...</td>\n",
       "      <td>1</td>\n",
       "      <td>1</td>\n",
       "      <td>5</td>\n",
       "      <td>3</td>\n",
       "      <td>1</td>\n",
       "      <td>4</td>\n",
       "      <td>1</td>\n",
       "      <td>1</td>\n",
       "      <td>6.0</td>\n",
       "      <td>neutral or dissatisfied</td>\n",
       "    </tr>\n",
       "    <tr>\n",
       "      <th>2</th>\n",
       "      <td>110028</td>\n",
       "      <td>Female</td>\n",
       "      <td>Loyal Customer</td>\n",
       "      <td>26</td>\n",
       "      <td>Business travel</td>\n",
       "      <td>Business</td>\n",
       "      <td>1142</td>\n",
       "      <td>2</td>\n",
       "      <td>2</td>\n",
       "      <td>2</td>\n",
       "      <td>...</td>\n",
       "      <td>5</td>\n",
       "      <td>4</td>\n",
       "      <td>3</td>\n",
       "      <td>4</td>\n",
       "      <td>4</td>\n",
       "      <td>4</td>\n",
       "      <td>5</td>\n",
       "      <td>0</td>\n",
       "      <td>0.0</td>\n",
       "      <td>satisfied</td>\n",
       "    </tr>\n",
       "    <tr>\n",
       "      <th>3</th>\n",
       "      <td>24026</td>\n",
       "      <td>Female</td>\n",
       "      <td>Loyal Customer</td>\n",
       "      <td>25</td>\n",
       "      <td>Business travel</td>\n",
       "      <td>Business</td>\n",
       "      <td>562</td>\n",
       "      <td>2</td>\n",
       "      <td>5</td>\n",
       "      <td>5</td>\n",
       "      <td>...</td>\n",
       "      <td>2</td>\n",
       "      <td>2</td>\n",
       "      <td>5</td>\n",
       "      <td>3</td>\n",
       "      <td>1</td>\n",
       "      <td>4</td>\n",
       "      <td>2</td>\n",
       "      <td>11</td>\n",
       "      <td>9.0</td>\n",
       "      <td>neutral or dissatisfied</td>\n",
       "    </tr>\n",
       "    <tr>\n",
       "      <th>4</th>\n",
       "      <td>119299</td>\n",
       "      <td>Male</td>\n",
       "      <td>Loyal Customer</td>\n",
       "      <td>61</td>\n",
       "      <td>Business travel</td>\n",
       "      <td>Business</td>\n",
       "      <td>214</td>\n",
       "      <td>3</td>\n",
       "      <td>3</td>\n",
       "      <td>3</td>\n",
       "      <td>...</td>\n",
       "      <td>3</td>\n",
       "      <td>3</td>\n",
       "      <td>4</td>\n",
       "      <td>4</td>\n",
       "      <td>3</td>\n",
       "      <td>3</td>\n",
       "      <td>3</td>\n",
       "      <td>0</td>\n",
       "      <td>0.0</td>\n",
       "      <td>satisfied</td>\n",
       "    </tr>\n",
       "  </tbody>\n",
       "</table>\n",
       "<p>5 rows × 24 columns</p>\n",
       "</div>"
      ],
      "text/plain": [
       "       id  Gender      Customer Type  Age   Type of Travel     Class  \\\n",
       "0   70172    Male     Loyal Customer   13  Personal Travel  Eco Plus   \n",
       "1    5047    Male  disloyal Customer   25  Business travel  Business   \n",
       "2  110028  Female     Loyal Customer   26  Business travel  Business   \n",
       "3   24026  Female     Loyal Customer   25  Business travel  Business   \n",
       "4  119299    Male     Loyal Customer   61  Business travel  Business   \n",
       "\n",
       "   Flight Distance  Inflight wifi service  Departure/Arrival time convenient  \\\n",
       "0              460                      3                                  4   \n",
       "1              235                      3                                  2   \n",
       "2             1142                      2                                  2   \n",
       "3              562                      2                                  5   \n",
       "4              214                      3                                  3   \n",
       "\n",
       "   Ease of Online booking  ...  Inflight entertainment  On-board service  \\\n",
       "0                       3  ...                       5                 4   \n",
       "1                       3  ...                       1                 1   \n",
       "2                       2  ...                       5                 4   \n",
       "3                       5  ...                       2                 2   \n",
       "4                       3  ...                       3                 3   \n",
       "\n",
       "   Leg room service  Baggage handling  Checkin service  Inflight service  \\\n",
       "0                 3                 4                4                 5   \n",
       "1                 5                 3                1                 4   \n",
       "2                 3                 4                4                 4   \n",
       "3                 5                 3                1                 4   \n",
       "4                 4                 4                3                 3   \n",
       "\n",
       "   Cleanliness  Departure Delay in Minutes  Arrival Delay in Minutes  \\\n",
       "0            5                          25                      18.0   \n",
       "1            1                           1                       6.0   \n",
       "2            5                           0                       0.0   \n",
       "3            2                          11                       9.0   \n",
       "4            3                           0                       0.0   \n",
       "\n",
       "              satisfaction  \n",
       "0  neutral or dissatisfied  \n",
       "1  neutral or dissatisfied  \n",
       "2                satisfied  \n",
       "3  neutral or dissatisfied  \n",
       "4                satisfied  \n",
       "\n",
       "[5 rows x 24 columns]"
      ]
     },
     "execution_count": 3,
     "metadata": {},
     "output_type": "execute_result"
    }
   ],
   "source": [
    "df.head()"
   ]
  },
  {
   "cell_type": "code",
   "execution_count": 4,
   "id": "14cafcf0",
   "metadata": {},
   "outputs": [
    {
     "name": "stdout",
     "output_type": "stream",
     "text": [
      "id                                     0\n",
      "Gender                                 0\n",
      "Customer Type                          0\n",
      "Age                                    0\n",
      "Type of Travel                         0\n",
      "Class                                  0\n",
      "Flight Distance                        0\n",
      "Inflight wifi service                  0\n",
      "Departure/Arrival time convenient      0\n",
      "Ease of Online booking                 0\n",
      "Gate location                          0\n",
      "Food and drink                         0\n",
      "Online boarding                        0\n",
      "Seat comfort                           0\n",
      "Inflight entertainment                 0\n",
      "On-board service                       0\n",
      "Leg room service                       0\n",
      "Baggage handling                       0\n",
      "Checkin service                        0\n",
      "Inflight service                       0\n",
      "Cleanliness                            0\n",
      "Departure Delay in Minutes             0\n",
      "Arrival Delay in Minutes             310\n",
      "satisfaction                           0\n",
      "dtype: int64\n"
     ]
    }
   ],
   "source": [
    "#check nan values\n",
    "print(df.isnull().sum())"
   ]
  },
  {
   "cell_type": "code",
   "execution_count": 5,
   "id": "28afdabb",
   "metadata": {},
   "outputs": [
    {
     "name": "stderr",
     "output_type": "stream",
     "text": [
      "C:\\Users\\gusta\\AppData\\Local\\Temp\\ipykernel_48100\\1611070765.py:2: FutureWarning: A value is trying to be set on a copy of a DataFrame or Series through chained assignment using an inplace method.\n",
      "The behavior will change in pandas 3.0. This inplace method will never work because the intermediate object on which we are setting values always behaves as a copy.\n",
      "\n",
      "For example, when doing 'df[col].method(value, inplace=True)', try using 'df.method({col: value}, inplace=True)' or df[col] = df[col].method(value) instead, to perform the operation inplace on the original object.\n",
      "\n",
      "\n",
      "  df[\"Arrival Delay in Minutes\"].fillna(0, inplace=True)\n"
     ]
    }
   ],
   "source": [
    "#replace nan in \"Arrival Delay in Minutes\" with 0\n",
    "df[\"Arrival Delay in Minutes\"].fillna(0, inplace=True)"
   ]
  },
  {
   "cell_type": "code",
   "execution_count": 6,
   "id": "8057f059",
   "metadata": {},
   "outputs": [
    {
     "data": {
      "application/vnd.microsoft.datawrangler.viewer.v0+json": {
       "columns": [
        {
         "name": "satisfaction",
         "rawType": "object",
         "type": "string"
        },
        {
         "name": "count",
         "rawType": "int64",
         "type": "integer"
        }
       ],
       "ref": "1ef9117f-441f-40fa-8d47-5f2b2ffcac9f",
       "rows": [
        [
         "neutral or dissatisfied",
         "58879"
        ],
        [
         "satisfied",
         "45025"
        ]
       ],
       "shape": {
        "columns": 1,
        "rows": 2
       }
      },
      "text/plain": [
       "satisfaction\n",
       "neutral or dissatisfied    58879\n",
       "satisfied                  45025\n",
       "Name: count, dtype: int64"
      ]
     },
     "execution_count": 6,
     "metadata": {},
     "output_type": "execute_result"
    }
   ],
   "source": [
    "df['satisfaction'].value_counts()"
   ]
  },
  {
   "cell_type": "code",
   "execution_count": 7,
   "id": "a352df65",
   "metadata": {},
   "outputs": [
    {
     "name": "stdout",
     "output_type": "stream",
     "text": [
      "Categorical variables: ['Gender', 'Customer Type', 'Type of Travel', 'Class', 'satisfaction']\n",
      "Numeric variables: ['id', 'Age', 'Flight Distance', 'Inflight wifi service', 'Departure/Arrival time convenient', 'Ease of Online booking', 'Gate location', 'Food and drink', 'Online boarding', 'Seat comfort', 'Inflight entertainment', 'On-board service', 'Leg room service', 'Baggage handling', 'Checkin service', 'Inflight service', 'Cleanliness', 'Departure Delay in Minutes', 'Arrival Delay in Minutes']\n"
     ]
    }
   ],
   "source": [
    "categorical_vars = df.select_dtypes(include=['object']).columns.tolist()\n",
    "numeric_vars = df.select_dtypes(include=['number']).columns.tolist()\n",
    "\n",
    "print(\"Categorical variables:\", categorical_vars)\n",
    "print(\"Numeric variables:\", numeric_vars)"
   ]
  },
  {
   "cell_type": "code",
   "execution_count": 8,
   "id": "0f2fe0d2",
   "metadata": {},
   "outputs": [],
   "source": [
    "# process categorical variables to enter a model\n",
    "df = pd.get_dummies(df, columns=categorical_vars, drop_first=True)"
   ]
  },
  {
   "cell_type": "code",
   "execution_count": 9,
   "id": "ca211191",
   "metadata": {},
   "outputs": [
    {
     "data": {
      "application/vnd.microsoft.datawrangler.viewer.v0+json": {
       "columns": [
        {
         "name": "index",
         "rawType": "int64",
         "type": "integer"
        },
        {
         "name": "id",
         "rawType": "int64",
         "type": "integer"
        },
        {
         "name": "Age",
         "rawType": "int64",
         "type": "integer"
        },
        {
         "name": "Flight Distance",
         "rawType": "int64",
         "type": "integer"
        },
        {
         "name": "Inflight wifi service",
         "rawType": "int64",
         "type": "integer"
        },
        {
         "name": "Departure/Arrival time convenient",
         "rawType": "int64",
         "type": "integer"
        },
        {
         "name": "Ease of Online booking",
         "rawType": "int64",
         "type": "integer"
        },
        {
         "name": "Gate location",
         "rawType": "int64",
         "type": "integer"
        },
        {
         "name": "Food and drink",
         "rawType": "int64",
         "type": "integer"
        },
        {
         "name": "Online boarding",
         "rawType": "int64",
         "type": "integer"
        },
        {
         "name": "Seat comfort",
         "rawType": "int64",
         "type": "integer"
        },
        {
         "name": "Inflight entertainment",
         "rawType": "int64",
         "type": "integer"
        },
        {
         "name": "On-board service",
         "rawType": "int64",
         "type": "integer"
        },
        {
         "name": "Leg room service",
         "rawType": "int64",
         "type": "integer"
        },
        {
         "name": "Baggage handling",
         "rawType": "int64",
         "type": "integer"
        },
        {
         "name": "Checkin service",
         "rawType": "int64",
         "type": "integer"
        },
        {
         "name": "Inflight service",
         "rawType": "int64",
         "type": "integer"
        },
        {
         "name": "Cleanliness",
         "rawType": "int64",
         "type": "integer"
        },
        {
         "name": "Departure Delay in Minutes",
         "rawType": "int64",
         "type": "integer"
        },
        {
         "name": "Arrival Delay in Minutes",
         "rawType": "float64",
         "type": "float"
        },
        {
         "name": "Gender_Male",
         "rawType": "bool",
         "type": "boolean"
        },
        {
         "name": "Customer Type_disloyal Customer",
         "rawType": "bool",
         "type": "boolean"
        },
        {
         "name": "Type of Travel_Personal Travel",
         "rawType": "bool",
         "type": "boolean"
        },
        {
         "name": "Class_Eco",
         "rawType": "bool",
         "type": "boolean"
        },
        {
         "name": "Class_Eco Plus",
         "rawType": "bool",
         "type": "boolean"
        },
        {
         "name": "satisfaction_satisfied",
         "rawType": "bool",
         "type": "boolean"
        }
       ],
       "ref": "bb1d0947-609d-434e-b9ac-b24e762a738b",
       "rows": [
        [
         "0",
         "70172",
         "13",
         "460",
         "3",
         "4",
         "3",
         "1",
         "5",
         "3",
         "5",
         "5",
         "4",
         "3",
         "4",
         "4",
         "5",
         "5",
         "25",
         "18.0",
         "True",
         "False",
         "True",
         "False",
         "True",
         "False"
        ],
        [
         "1",
         "5047",
         "25",
         "235",
         "3",
         "2",
         "3",
         "3",
         "1",
         "3",
         "1",
         "1",
         "1",
         "5",
         "3",
         "1",
         "4",
         "1",
         "1",
         "6.0",
         "True",
         "True",
         "False",
         "False",
         "False",
         "False"
        ],
        [
         "2",
         "110028",
         "26",
         "1142",
         "2",
         "2",
         "2",
         "2",
         "5",
         "5",
         "5",
         "5",
         "4",
         "3",
         "4",
         "4",
         "4",
         "5",
         "0",
         "0.0",
         "False",
         "False",
         "False",
         "False",
         "False",
         "True"
        ],
        [
         "3",
         "24026",
         "25",
         "562",
         "2",
         "5",
         "5",
         "5",
         "2",
         "2",
         "2",
         "2",
         "2",
         "5",
         "3",
         "1",
         "4",
         "2",
         "11",
         "9.0",
         "False",
         "False",
         "False",
         "False",
         "False",
         "False"
        ],
        [
         "4",
         "119299",
         "61",
         "214",
         "3",
         "3",
         "3",
         "3",
         "4",
         "5",
         "5",
         "3",
         "3",
         "4",
         "4",
         "3",
         "3",
         "3",
         "0",
         "0.0",
         "True",
         "False",
         "False",
         "False",
         "False",
         "True"
        ]
       ],
       "shape": {
        "columns": 25,
        "rows": 5
       }
      },
      "text/html": [
       "<div>\n",
       "<style scoped>\n",
       "    .dataframe tbody tr th:only-of-type {\n",
       "        vertical-align: middle;\n",
       "    }\n",
       "\n",
       "    .dataframe tbody tr th {\n",
       "        vertical-align: top;\n",
       "    }\n",
       "\n",
       "    .dataframe thead th {\n",
       "        text-align: right;\n",
       "    }\n",
       "</style>\n",
       "<table border=\"1\" class=\"dataframe\">\n",
       "  <thead>\n",
       "    <tr style=\"text-align: right;\">\n",
       "      <th></th>\n",
       "      <th>id</th>\n",
       "      <th>Age</th>\n",
       "      <th>Flight Distance</th>\n",
       "      <th>Inflight wifi service</th>\n",
       "      <th>Departure/Arrival time convenient</th>\n",
       "      <th>Ease of Online booking</th>\n",
       "      <th>Gate location</th>\n",
       "      <th>Food and drink</th>\n",
       "      <th>Online boarding</th>\n",
       "      <th>Seat comfort</th>\n",
       "      <th>...</th>\n",
       "      <th>Inflight service</th>\n",
       "      <th>Cleanliness</th>\n",
       "      <th>Departure Delay in Minutes</th>\n",
       "      <th>Arrival Delay in Minutes</th>\n",
       "      <th>Gender_Male</th>\n",
       "      <th>Customer Type_disloyal Customer</th>\n",
       "      <th>Type of Travel_Personal Travel</th>\n",
       "      <th>Class_Eco</th>\n",
       "      <th>Class_Eco Plus</th>\n",
       "      <th>satisfaction_satisfied</th>\n",
       "    </tr>\n",
       "  </thead>\n",
       "  <tbody>\n",
       "    <tr>\n",
       "      <th>0</th>\n",
       "      <td>70172</td>\n",
       "      <td>13</td>\n",
       "      <td>460</td>\n",
       "      <td>3</td>\n",
       "      <td>4</td>\n",
       "      <td>3</td>\n",
       "      <td>1</td>\n",
       "      <td>5</td>\n",
       "      <td>3</td>\n",
       "      <td>5</td>\n",
       "      <td>...</td>\n",
       "      <td>5</td>\n",
       "      <td>5</td>\n",
       "      <td>25</td>\n",
       "      <td>18.0</td>\n",
       "      <td>True</td>\n",
       "      <td>False</td>\n",
       "      <td>True</td>\n",
       "      <td>False</td>\n",
       "      <td>True</td>\n",
       "      <td>False</td>\n",
       "    </tr>\n",
       "    <tr>\n",
       "      <th>1</th>\n",
       "      <td>5047</td>\n",
       "      <td>25</td>\n",
       "      <td>235</td>\n",
       "      <td>3</td>\n",
       "      <td>2</td>\n",
       "      <td>3</td>\n",
       "      <td>3</td>\n",
       "      <td>1</td>\n",
       "      <td>3</td>\n",
       "      <td>1</td>\n",
       "      <td>...</td>\n",
       "      <td>4</td>\n",
       "      <td>1</td>\n",
       "      <td>1</td>\n",
       "      <td>6.0</td>\n",
       "      <td>True</td>\n",
       "      <td>True</td>\n",
       "      <td>False</td>\n",
       "      <td>False</td>\n",
       "      <td>False</td>\n",
       "      <td>False</td>\n",
       "    </tr>\n",
       "    <tr>\n",
       "      <th>2</th>\n",
       "      <td>110028</td>\n",
       "      <td>26</td>\n",
       "      <td>1142</td>\n",
       "      <td>2</td>\n",
       "      <td>2</td>\n",
       "      <td>2</td>\n",
       "      <td>2</td>\n",
       "      <td>5</td>\n",
       "      <td>5</td>\n",
       "      <td>5</td>\n",
       "      <td>...</td>\n",
       "      <td>4</td>\n",
       "      <td>5</td>\n",
       "      <td>0</td>\n",
       "      <td>0.0</td>\n",
       "      <td>False</td>\n",
       "      <td>False</td>\n",
       "      <td>False</td>\n",
       "      <td>False</td>\n",
       "      <td>False</td>\n",
       "      <td>True</td>\n",
       "    </tr>\n",
       "    <tr>\n",
       "      <th>3</th>\n",
       "      <td>24026</td>\n",
       "      <td>25</td>\n",
       "      <td>562</td>\n",
       "      <td>2</td>\n",
       "      <td>5</td>\n",
       "      <td>5</td>\n",
       "      <td>5</td>\n",
       "      <td>2</td>\n",
       "      <td>2</td>\n",
       "      <td>2</td>\n",
       "      <td>...</td>\n",
       "      <td>4</td>\n",
       "      <td>2</td>\n",
       "      <td>11</td>\n",
       "      <td>9.0</td>\n",
       "      <td>False</td>\n",
       "      <td>False</td>\n",
       "      <td>False</td>\n",
       "      <td>False</td>\n",
       "      <td>False</td>\n",
       "      <td>False</td>\n",
       "    </tr>\n",
       "    <tr>\n",
       "      <th>4</th>\n",
       "      <td>119299</td>\n",
       "      <td>61</td>\n",
       "      <td>214</td>\n",
       "      <td>3</td>\n",
       "      <td>3</td>\n",
       "      <td>3</td>\n",
       "      <td>3</td>\n",
       "      <td>4</td>\n",
       "      <td>5</td>\n",
       "      <td>5</td>\n",
       "      <td>...</td>\n",
       "      <td>3</td>\n",
       "      <td>3</td>\n",
       "      <td>0</td>\n",
       "      <td>0.0</td>\n",
       "      <td>True</td>\n",
       "      <td>False</td>\n",
       "      <td>False</td>\n",
       "      <td>False</td>\n",
       "      <td>False</td>\n",
       "      <td>True</td>\n",
       "    </tr>\n",
       "  </tbody>\n",
       "</table>\n",
       "<p>5 rows × 25 columns</p>\n",
       "</div>"
      ],
      "text/plain": [
       "       id  Age  Flight Distance  Inflight wifi service  \\\n",
       "0   70172   13              460                      3   \n",
       "1    5047   25              235                      3   \n",
       "2  110028   26             1142                      2   \n",
       "3   24026   25              562                      2   \n",
       "4  119299   61              214                      3   \n",
       "\n",
       "   Departure/Arrival time convenient  Ease of Online booking  Gate location  \\\n",
       "0                                  4                       3              1   \n",
       "1                                  2                       3              3   \n",
       "2                                  2                       2              2   \n",
       "3                                  5                       5              5   \n",
       "4                                  3                       3              3   \n",
       "\n",
       "   Food and drink  Online boarding  Seat comfort  ...  Inflight service  \\\n",
       "0               5                3             5  ...                 5   \n",
       "1               1                3             1  ...                 4   \n",
       "2               5                5             5  ...                 4   \n",
       "3               2                2             2  ...                 4   \n",
       "4               4                5             5  ...                 3   \n",
       "\n",
       "   Cleanliness  Departure Delay in Minutes  Arrival Delay in Minutes  \\\n",
       "0            5                          25                      18.0   \n",
       "1            1                           1                       6.0   \n",
       "2            5                           0                       0.0   \n",
       "3            2                          11                       9.0   \n",
       "4            3                           0                       0.0   \n",
       "\n",
       "   Gender_Male  Customer Type_disloyal Customer  \\\n",
       "0         True                            False   \n",
       "1         True                             True   \n",
       "2        False                            False   \n",
       "3        False                            False   \n",
       "4         True                            False   \n",
       "\n",
       "   Type of Travel_Personal Travel  Class_Eco  Class_Eco Plus  \\\n",
       "0                            True      False            True   \n",
       "1                           False      False           False   \n",
       "2                           False      False           False   \n",
       "3                           False      False           False   \n",
       "4                           False      False           False   \n",
       "\n",
       "   satisfaction_satisfied  \n",
       "0                   False  \n",
       "1                   False  \n",
       "2                    True  \n",
       "3                   False  \n",
       "4                    True  \n",
       "\n",
       "[5 rows x 25 columns]"
      ]
     },
     "execution_count": 9,
     "metadata": {},
     "output_type": "execute_result"
    }
   ],
   "source": [
    "df.head()"
   ]
  },
  {
   "cell_type": "code",
   "execution_count": 10,
   "id": "9cd51baa",
   "metadata": {},
   "outputs": [],
   "source": [
    "scaler = StandardScaler()\n",
    "df[numeric_vars] = scaler.fit_transform(df[numeric_vars])"
   ]
  },
  {
   "cell_type": "code",
   "execution_count": null,
   "id": "d9d0f05c",
   "metadata": {},
   "outputs": [],
   "source": [
    "\n"
   ]
  },
  {
   "cell_type": "code",
   "execution_count": 11,
   "id": "1298dbc8",
   "metadata": {},
   "outputs": [],
   "source": [
    "df.to_csv(\"../data/processed_airline_passenger_satisfaction.csv\", index=False)"
   ]
  },
  {
   "cell_type": "code",
   "execution_count": 12,
   "id": "fd5dc55e",
   "metadata": {},
   "outputs": [
    {
     "data": {
      "application/vnd.microsoft.datawrangler.viewer.v0+json": {
       "columns": [
        {
         "name": "index",
         "rawType": "int64",
         "type": "integer"
        },
        {
         "name": "id",
         "rawType": "float64",
         "type": "float"
        },
        {
         "name": "Age",
         "rawType": "float64",
         "type": "float"
        },
        {
         "name": "Flight Distance",
         "rawType": "float64",
         "type": "float"
        },
        {
         "name": "Inflight wifi service",
         "rawType": "float64",
         "type": "float"
        },
        {
         "name": "Departure/Arrival time convenient",
         "rawType": "float64",
         "type": "float"
        },
        {
         "name": "Ease of Online booking",
         "rawType": "float64",
         "type": "float"
        },
        {
         "name": "Gate location",
         "rawType": "float64",
         "type": "float"
        },
        {
         "name": "Food and drink",
         "rawType": "float64",
         "type": "float"
        },
        {
         "name": "Online boarding",
         "rawType": "float64",
         "type": "float"
        },
        {
         "name": "Seat comfort",
         "rawType": "float64",
         "type": "float"
        },
        {
         "name": "Inflight entertainment",
         "rawType": "float64",
         "type": "float"
        },
        {
         "name": "On-board service",
         "rawType": "float64",
         "type": "float"
        },
        {
         "name": "Leg room service",
         "rawType": "float64",
         "type": "float"
        },
        {
         "name": "Baggage handling",
         "rawType": "float64",
         "type": "float"
        },
        {
         "name": "Checkin service",
         "rawType": "float64",
         "type": "float"
        },
        {
         "name": "Inflight service",
         "rawType": "float64",
         "type": "float"
        },
        {
         "name": "Cleanliness",
         "rawType": "float64",
         "type": "float"
        },
        {
         "name": "Departure Delay in Minutes",
         "rawType": "float64",
         "type": "float"
        },
        {
         "name": "Arrival Delay in Minutes",
         "rawType": "float64",
         "type": "float"
        },
        {
         "name": "Gender_Male",
         "rawType": "bool",
         "type": "boolean"
        },
        {
         "name": "Customer Type_disloyal Customer",
         "rawType": "bool",
         "type": "boolean"
        },
        {
         "name": "Type of Travel_Personal Travel",
         "rawType": "bool",
         "type": "boolean"
        },
        {
         "name": "Class_Eco",
         "rawType": "bool",
         "type": "boolean"
        },
        {
         "name": "Class_Eco Plus",
         "rawType": "bool",
         "type": "boolean"
        },
        {
         "name": "satisfaction_satisfied",
         "rawType": "bool",
         "type": "boolean"
        }
       ],
       "ref": "062a4dd5-08f9-4ca3-b060-b34181dafa47",
       "rows": [
        [
         "0",
         "0.1400769018382761",
         "-1.7452792963959498",
         "-0.7315387605182878",
         "0.2035789516551841",
         "0.6161718984003848",
         "0.173776143853014",
         "-1.547322722532286",
         "1.3522644074658623",
         "-0.1855315969806735",
         "1.1830993068759184",
         "1.2317042817924029",
         "0.4794025816766604",
         "-0.266840435197607",
         "0.3117685473283496",
         "0.5497985959374537",
         "1.156435816064447",
         "1.3058697266087202",
         "0.2663926454868473",
         "0.0741691600651929",
         "True",
         "False",
         "True",
         "False",
         "True",
         "False"
        ],
        [
         "1",
         "-1.5982756436854442",
         "-0.9513602381426838",
         "-0.9571835445251908",
         "0.2035789516551841",
         "-0.6952451569032049",
         "0.173776143853014",
         "0.018094258101139",
         "-1.6563259160426531",
         "-0.1855315969806735",
         "-1.8493145339197603",
         "-1.7690812486566827",
         "-1.84916052762751",
         "1.253380454086973",
         "-0.535044835366397",
         "-1.8210124757193524",
         "0.3058478641134309",
         "-1.7422915285888867",
         "-0.3613748181446935",
         "-0.2363127869721467",
         "True",
         "True",
         "False",
         "False",
         "False",
         "False"
        ],
        [
         "2",
         "1.2039353134220518",
         "-0.8852003166215783",
         "-0.047584348550697",
         "-0.5495334274803677",
         "-0.6952451569032049",
         "-0.5410596157140138",
         "-0.7646142322155735",
         "1.3522644074658623",
         "1.296496083409863",
         "1.1830993068759184",
         "1.2317042817924029",
         "0.4794025816766604",
         "-0.266840435197607",
         "0.3117685473283496",
         "0.5497985959374537",
         "0.3058478641134309",
         "1.3058697266087202",
         "-0.3875317957960077",
         "-0.3915537604908166",
         "False",
         "False",
         "False",
         "False",
         "False",
         "True"
        ],
        [
         "3",
         "-1.0916776711480978",
         "-0.9513602381426838",
         "-0.6292464584351584",
         "-0.5495334274803677",
         "1.2718804260521797",
         "1.6034476629870698",
         "1.5835112387345638",
         "-0.9041783351655244",
         "-0.926545437175942",
         "-1.091211073720841",
         "-1.0188848660444114",
         "-1.07297282452612",
         "1.253380454086973",
         "-0.535044835366397",
         "-1.8210124757193524",
         "0.3058478641134309",
         "-0.980251214789485",
         "-0.0998050416315514",
         "-0.1586923002128118",
         "False",
         "False",
         "False",
         "False",
         "False",
         "False"
        ],
        [
         "4",
         "1.4514019767548796",
         "1.430396936617114",
         "-0.9782437243658352",
         "0.2035789516551841",
         "-0.03953662925141",
         "0.173776143853014",
         "0.018094258101139",
         "0.6001168265887334",
         "1.296496083409863",
         "1.1830993068759184",
         "-0.26868848343214",
         "-0.2967851214247297",
         "0.493270009444683",
         "0.3117685473283496",
         "-0.2404717612814816",
         "-0.5447400878375853",
         "-0.2182109009900832",
         "-0.3875317957960077",
         "-0.3915537604908166",
         "True",
         "False",
         "False",
         "False",
         "False",
         "True"
        ]
       ],
       "shape": {
        "columns": 25,
        "rows": 5
       }
      },
      "text/html": [
       "<div>\n",
       "<style scoped>\n",
       "    .dataframe tbody tr th:only-of-type {\n",
       "        vertical-align: middle;\n",
       "    }\n",
       "\n",
       "    .dataframe tbody tr th {\n",
       "        vertical-align: top;\n",
       "    }\n",
       "\n",
       "    .dataframe thead th {\n",
       "        text-align: right;\n",
       "    }\n",
       "</style>\n",
       "<table border=\"1\" class=\"dataframe\">\n",
       "  <thead>\n",
       "    <tr style=\"text-align: right;\">\n",
       "      <th></th>\n",
       "      <th>id</th>\n",
       "      <th>Age</th>\n",
       "      <th>Flight Distance</th>\n",
       "      <th>Inflight wifi service</th>\n",
       "      <th>Departure/Arrival time convenient</th>\n",
       "      <th>Ease of Online booking</th>\n",
       "      <th>Gate location</th>\n",
       "      <th>Food and drink</th>\n",
       "      <th>Online boarding</th>\n",
       "      <th>Seat comfort</th>\n",
       "      <th>...</th>\n",
       "      <th>Inflight service</th>\n",
       "      <th>Cleanliness</th>\n",
       "      <th>Departure Delay in Minutes</th>\n",
       "      <th>Arrival Delay in Minutes</th>\n",
       "      <th>Gender_Male</th>\n",
       "      <th>Customer Type_disloyal Customer</th>\n",
       "      <th>Type of Travel_Personal Travel</th>\n",
       "      <th>Class_Eco</th>\n",
       "      <th>Class_Eco Plus</th>\n",
       "      <th>satisfaction_satisfied</th>\n",
       "    </tr>\n",
       "  </thead>\n",
       "  <tbody>\n",
       "    <tr>\n",
       "      <th>0</th>\n",
       "      <td>0.140077</td>\n",
       "      <td>-1.745279</td>\n",
       "      <td>-0.731539</td>\n",
       "      <td>0.203579</td>\n",
       "      <td>0.616172</td>\n",
       "      <td>0.173776</td>\n",
       "      <td>-1.547323</td>\n",
       "      <td>1.352264</td>\n",
       "      <td>-0.185532</td>\n",
       "      <td>1.183099</td>\n",
       "      <td>...</td>\n",
       "      <td>1.156436</td>\n",
       "      <td>1.305870</td>\n",
       "      <td>0.266393</td>\n",
       "      <td>0.074169</td>\n",
       "      <td>True</td>\n",
       "      <td>False</td>\n",
       "      <td>True</td>\n",
       "      <td>False</td>\n",
       "      <td>True</td>\n",
       "      <td>False</td>\n",
       "    </tr>\n",
       "    <tr>\n",
       "      <th>1</th>\n",
       "      <td>-1.598276</td>\n",
       "      <td>-0.951360</td>\n",
       "      <td>-0.957184</td>\n",
       "      <td>0.203579</td>\n",
       "      <td>-0.695245</td>\n",
       "      <td>0.173776</td>\n",
       "      <td>0.018094</td>\n",
       "      <td>-1.656326</td>\n",
       "      <td>-0.185532</td>\n",
       "      <td>-1.849315</td>\n",
       "      <td>...</td>\n",
       "      <td>0.305848</td>\n",
       "      <td>-1.742292</td>\n",
       "      <td>-0.361375</td>\n",
       "      <td>-0.236313</td>\n",
       "      <td>True</td>\n",
       "      <td>True</td>\n",
       "      <td>False</td>\n",
       "      <td>False</td>\n",
       "      <td>False</td>\n",
       "      <td>False</td>\n",
       "    </tr>\n",
       "    <tr>\n",
       "      <th>2</th>\n",
       "      <td>1.203935</td>\n",
       "      <td>-0.885200</td>\n",
       "      <td>-0.047584</td>\n",
       "      <td>-0.549533</td>\n",
       "      <td>-0.695245</td>\n",
       "      <td>-0.541060</td>\n",
       "      <td>-0.764614</td>\n",
       "      <td>1.352264</td>\n",
       "      <td>1.296496</td>\n",
       "      <td>1.183099</td>\n",
       "      <td>...</td>\n",
       "      <td>0.305848</td>\n",
       "      <td>1.305870</td>\n",
       "      <td>-0.387532</td>\n",
       "      <td>-0.391554</td>\n",
       "      <td>False</td>\n",
       "      <td>False</td>\n",
       "      <td>False</td>\n",
       "      <td>False</td>\n",
       "      <td>False</td>\n",
       "      <td>True</td>\n",
       "    </tr>\n",
       "    <tr>\n",
       "      <th>3</th>\n",
       "      <td>-1.091678</td>\n",
       "      <td>-0.951360</td>\n",
       "      <td>-0.629246</td>\n",
       "      <td>-0.549533</td>\n",
       "      <td>1.271880</td>\n",
       "      <td>1.603448</td>\n",
       "      <td>1.583511</td>\n",
       "      <td>-0.904178</td>\n",
       "      <td>-0.926545</td>\n",
       "      <td>-1.091211</td>\n",
       "      <td>...</td>\n",
       "      <td>0.305848</td>\n",
       "      <td>-0.980251</td>\n",
       "      <td>-0.099805</td>\n",
       "      <td>-0.158692</td>\n",
       "      <td>False</td>\n",
       "      <td>False</td>\n",
       "      <td>False</td>\n",
       "      <td>False</td>\n",
       "      <td>False</td>\n",
       "      <td>False</td>\n",
       "    </tr>\n",
       "    <tr>\n",
       "      <th>4</th>\n",
       "      <td>1.451402</td>\n",
       "      <td>1.430397</td>\n",
       "      <td>-0.978244</td>\n",
       "      <td>0.203579</td>\n",
       "      <td>-0.039537</td>\n",
       "      <td>0.173776</td>\n",
       "      <td>0.018094</td>\n",
       "      <td>0.600117</td>\n",
       "      <td>1.296496</td>\n",
       "      <td>1.183099</td>\n",
       "      <td>...</td>\n",
       "      <td>-0.544740</td>\n",
       "      <td>-0.218211</td>\n",
       "      <td>-0.387532</td>\n",
       "      <td>-0.391554</td>\n",
       "      <td>True</td>\n",
       "      <td>False</td>\n",
       "      <td>False</td>\n",
       "      <td>False</td>\n",
       "      <td>False</td>\n",
       "      <td>True</td>\n",
       "    </tr>\n",
       "  </tbody>\n",
       "</table>\n",
       "<p>5 rows × 25 columns</p>\n",
       "</div>"
      ],
      "text/plain": [
       "         id       Age  Flight Distance  Inflight wifi service  \\\n",
       "0  0.140077 -1.745279        -0.731539               0.203579   \n",
       "1 -1.598276 -0.951360        -0.957184               0.203579   \n",
       "2  1.203935 -0.885200        -0.047584              -0.549533   \n",
       "3 -1.091678 -0.951360        -0.629246              -0.549533   \n",
       "4  1.451402  1.430397        -0.978244               0.203579   \n",
       "\n",
       "   Departure/Arrival time convenient  Ease of Online booking  Gate location  \\\n",
       "0                           0.616172                0.173776      -1.547323   \n",
       "1                          -0.695245                0.173776       0.018094   \n",
       "2                          -0.695245               -0.541060      -0.764614   \n",
       "3                           1.271880                1.603448       1.583511   \n",
       "4                          -0.039537                0.173776       0.018094   \n",
       "\n",
       "   Food and drink  Online boarding  Seat comfort  ...  Inflight service  \\\n",
       "0        1.352264        -0.185532      1.183099  ...          1.156436   \n",
       "1       -1.656326        -0.185532     -1.849315  ...          0.305848   \n",
       "2        1.352264         1.296496      1.183099  ...          0.305848   \n",
       "3       -0.904178        -0.926545     -1.091211  ...          0.305848   \n",
       "4        0.600117         1.296496      1.183099  ...         -0.544740   \n",
       "\n",
       "   Cleanliness  Departure Delay in Minutes  Arrival Delay in Minutes  \\\n",
       "0     1.305870                    0.266393                  0.074169   \n",
       "1    -1.742292                   -0.361375                 -0.236313   \n",
       "2     1.305870                   -0.387532                 -0.391554   \n",
       "3    -0.980251                   -0.099805                 -0.158692   \n",
       "4    -0.218211                   -0.387532                 -0.391554   \n",
       "\n",
       "   Gender_Male  Customer Type_disloyal Customer  \\\n",
       "0         True                            False   \n",
       "1         True                             True   \n",
       "2        False                            False   \n",
       "3        False                            False   \n",
       "4         True                            False   \n",
       "\n",
       "   Type of Travel_Personal Travel  Class_Eco  Class_Eco Plus  \\\n",
       "0                            True      False            True   \n",
       "1                           False      False           False   \n",
       "2                           False      False           False   \n",
       "3                           False      False           False   \n",
       "4                           False      False           False   \n",
       "\n",
       "   satisfaction_satisfied  \n",
       "0                   False  \n",
       "1                   False  \n",
       "2                    True  \n",
       "3                   False  \n",
       "4                    True  \n",
       "\n",
       "[5 rows x 25 columns]"
      ]
     },
     "execution_count": 12,
     "metadata": {},
     "output_type": "execute_result"
    }
   ],
   "source": [
    "#read csv\n",
    "df = pd.read_csv(\"../data/processed_airline_passenger_satisfaction.csv\")\n",
    "df.head()"
   ]
  }
 ],
 "metadata": {
  "kernelspec": {
   "display_name": "env",
   "language": "python",
   "name": "python3"
  },
  "language_info": {
   "codemirror_mode": {
    "name": "ipython",
    "version": 3
   },
   "file_extension": ".py",
   "mimetype": "text/x-python",
   "name": "python",
   "nbconvert_exporter": "python",
   "pygments_lexer": "ipython3",
   "version": "3.12.4"
  }
 },
 "nbformat": 4,
 "nbformat_minor": 5
}
