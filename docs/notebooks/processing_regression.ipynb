{
 "cells": [
  {
   "cell_type": "code",
   "execution_count": 2,
   "id": "91c87d4c",
   "metadata": {},
   "outputs": [
    {
     "name": "stderr",
     "output_type": "stream",
     "text": [
      "c:\\Users\\gusta\\RedesNeurais\\neural-network-project\\venv\\Lib\\site-packages\\tqdm\\auto.py:21: TqdmWarning: IProgress not found. Please update jupyter and ipywidgets. See https://ipywidgets.readthedocs.io/en/stable/user_install.html\n",
      "  from .autonotebook import tqdm as notebook_tqdm\n"
     ]
    }
   ],
   "source": [
    "import pandas as pd\n",
    "import numpy as np\n",
    "from sklearn.model_selection import train_test_split\n",
    "from sklearn.preprocessing import MinMaxScaler\n",
    "import kagglehub\n",
    "import os"
   ]
  },
  {
   "cell_type": "code",
   "execution_count": 3,
   "id": "7dd992c7",
   "metadata": {},
   "outputs": [
    {
     "name": "stdout",
     "output_type": "stream",
     "text": [
      "C:\\Users\\gusta\\.cache\\kagglehub\\datasets\\nehalbirla\\vehicle-dataset-from-cardekho\\versions\\4\n"
     ]
    }
   ],
   "source": [
    "path = kagglehub.dataset_download(\"nehalbirla/vehicle-dataset-from-cardekho\")\n",
    "df = pd.read_csv(os.path.join(path, \"CAR DETAILS FROM CAR DEKHO.csv\"), header=0)\n",
    "print(path)"
   ]
  },
  {
   "cell_type": "code",
   "execution_count": 4,
   "id": "ad9412e5",
   "metadata": {},
   "outputs": [
    {
     "data": {
      "application/vnd.microsoft.datawrangler.viewer.v0+json": {
       "columns": [
        {
         "name": "index",
         "rawType": "int64",
         "type": "integer"
        },
        {
         "name": "name",
         "rawType": "object",
         "type": "string"
        },
        {
         "name": "year",
         "rawType": "int64",
         "type": "integer"
        },
        {
         "name": "selling_price",
         "rawType": "int64",
         "type": "integer"
        },
        {
         "name": "km_driven",
         "rawType": "int64",
         "type": "integer"
        },
        {
         "name": "fuel",
         "rawType": "object",
         "type": "string"
        },
        {
         "name": "seller_type",
         "rawType": "object",
         "type": "string"
        },
        {
         "name": "transmission",
         "rawType": "object",
         "type": "string"
        },
        {
         "name": "owner",
         "rawType": "object",
         "type": "string"
        }
       ],
       "ref": "33316c7a-f04f-40c6-844f-d32357181668",
       "rows": [
        [
         "0",
         "Maruti 800 AC",
         "2007",
         "60000",
         "70000",
         "Petrol",
         "Individual",
         "Manual",
         "First Owner"
        ],
        [
         "1",
         "Maruti Wagon R LXI Minor",
         "2007",
         "135000",
         "50000",
         "Petrol",
         "Individual",
         "Manual",
         "First Owner"
        ],
        [
         "2",
         "Hyundai Verna 1.6 SX",
         "2012",
         "600000",
         "100000",
         "Diesel",
         "Individual",
         "Manual",
         "First Owner"
        ],
        [
         "3",
         "Datsun RediGO T Option",
         "2017",
         "250000",
         "46000",
         "Petrol",
         "Individual",
         "Manual",
         "First Owner"
        ],
        [
         "4",
         "Honda Amaze VX i-DTEC",
         "2014",
         "450000",
         "141000",
         "Diesel",
         "Individual",
         "Manual",
         "Second Owner"
        ]
       ],
       "shape": {
        "columns": 8,
        "rows": 5
       }
      },
      "text/html": [
       "<div>\n",
       "<style scoped>\n",
       "    .dataframe tbody tr th:only-of-type {\n",
       "        vertical-align: middle;\n",
       "    }\n",
       "\n",
       "    .dataframe tbody tr th {\n",
       "        vertical-align: top;\n",
       "    }\n",
       "\n",
       "    .dataframe thead th {\n",
       "        text-align: right;\n",
       "    }\n",
       "</style>\n",
       "<table border=\"1\" class=\"dataframe\">\n",
       "  <thead>\n",
       "    <tr style=\"text-align: right;\">\n",
       "      <th></th>\n",
       "      <th>name</th>\n",
       "      <th>year</th>\n",
       "      <th>selling_price</th>\n",
       "      <th>km_driven</th>\n",
       "      <th>fuel</th>\n",
       "      <th>seller_type</th>\n",
       "      <th>transmission</th>\n",
       "      <th>owner</th>\n",
       "    </tr>\n",
       "  </thead>\n",
       "  <tbody>\n",
       "    <tr>\n",
       "      <th>0</th>\n",
       "      <td>Maruti 800 AC</td>\n",
       "      <td>2007</td>\n",
       "      <td>60000</td>\n",
       "      <td>70000</td>\n",
       "      <td>Petrol</td>\n",
       "      <td>Individual</td>\n",
       "      <td>Manual</td>\n",
       "      <td>First Owner</td>\n",
       "    </tr>\n",
       "    <tr>\n",
       "      <th>1</th>\n",
       "      <td>Maruti Wagon R LXI Minor</td>\n",
       "      <td>2007</td>\n",
       "      <td>135000</td>\n",
       "      <td>50000</td>\n",
       "      <td>Petrol</td>\n",
       "      <td>Individual</td>\n",
       "      <td>Manual</td>\n",
       "      <td>First Owner</td>\n",
       "    </tr>\n",
       "    <tr>\n",
       "      <th>2</th>\n",
       "      <td>Hyundai Verna 1.6 SX</td>\n",
       "      <td>2012</td>\n",
       "      <td>600000</td>\n",
       "      <td>100000</td>\n",
       "      <td>Diesel</td>\n",
       "      <td>Individual</td>\n",
       "      <td>Manual</td>\n",
       "      <td>First Owner</td>\n",
       "    </tr>\n",
       "    <tr>\n",
       "      <th>3</th>\n",
       "      <td>Datsun RediGO T Option</td>\n",
       "      <td>2017</td>\n",
       "      <td>250000</td>\n",
       "      <td>46000</td>\n",
       "      <td>Petrol</td>\n",
       "      <td>Individual</td>\n",
       "      <td>Manual</td>\n",
       "      <td>First Owner</td>\n",
       "    </tr>\n",
       "    <tr>\n",
       "      <th>4</th>\n",
       "      <td>Honda Amaze VX i-DTEC</td>\n",
       "      <td>2014</td>\n",
       "      <td>450000</td>\n",
       "      <td>141000</td>\n",
       "      <td>Diesel</td>\n",
       "      <td>Individual</td>\n",
       "      <td>Manual</td>\n",
       "      <td>Second Owner</td>\n",
       "    </tr>\n",
       "  </tbody>\n",
       "</table>\n",
       "</div>"
      ],
      "text/plain": [
       "                       name  year  selling_price  km_driven    fuel  \\\n",
       "0             Maruti 800 AC  2007          60000      70000  Petrol   \n",
       "1  Maruti Wagon R LXI Minor  2007         135000      50000  Petrol   \n",
       "2      Hyundai Verna 1.6 SX  2012         600000     100000  Diesel   \n",
       "3    Datsun RediGO T Option  2017         250000      46000  Petrol   \n",
       "4     Honda Amaze VX i-DTEC  2014         450000     141000  Diesel   \n",
       "\n",
       "  seller_type transmission         owner  \n",
       "0  Individual       Manual   First Owner  \n",
       "1  Individual       Manual   First Owner  \n",
       "2  Individual       Manual   First Owner  \n",
       "3  Individual       Manual   First Owner  \n",
       "4  Individual       Manual  Second Owner  "
      ]
     },
     "execution_count": 4,
     "metadata": {},
     "output_type": "execute_result"
    }
   ],
   "source": [
    "df.head()"
   ]
  },
  {
   "cell_type": "code",
   "execution_count": 5,
   "id": "56af3d8c",
   "metadata": {},
   "outputs": [
    {
     "name": "stdout",
     "output_type": "stream",
     "text": [
      "Categorical variables: ['name', 'fuel', 'seller_type', 'transmission', 'owner']\n",
      "Numeric variables: ['year', 'selling_price', 'km_driven']\n"
     ]
    }
   ],
   "source": [
    "TARGET = 'selling_price'\n",
    "CATEGORICAL_FEATURES = df.select_dtypes(include=['object']).columns.tolist()\n",
    "NUMERICAL_FEATURES = df.select_dtypes(include=['number']).columns.tolist()\n",
    "\n",
    "df[f'{TARGET}_original'] = df[TARGET]\n",
    "\n",
    "\n",
    "print(\"Categorical variables:\", CATEGORICAL_FEATURES)\n",
    "print(\"Numeric variables:\", NUMERICAL_FEATURES)"
   ]
  },
  {
   "cell_type": "code",
   "execution_count": 6,
   "id": "4d5c88b1",
   "metadata": {},
   "outputs": [
    {
     "name": "stdout",
     "output_type": "stream",
     "text": [
      "Categorical variables: ['fuel', 'seller_type', 'transmission', 'owner', 'brand']\n"
     ]
    }
   ],
   "source": [
    "#replace 'name' column with 'brand' extracted from it to avoid high cardinality\n",
    "df['brand'] = df['name'].str.split().str[0]\n",
    "df.drop(columns=['name'], inplace=True)\n",
    "\n",
    "#update Categorical Features\n",
    "CATEGORICAL_FEATURES = df.select_dtypes(include=['object']).columns.tolist()\n",
    "print(\"Categorical variables:\", CATEGORICAL_FEATURES)\n"
   ]
  },
  {
   "cell_type": "code",
   "execution_count": 7,
   "id": "b13f9ac8",
   "metadata": {},
   "outputs": [
    {
     "data": {
      "application/vnd.microsoft.datawrangler.viewer.v0+json": {
       "columns": [
        {
         "name": "index",
         "rawType": "int64",
         "type": "integer"
        },
        {
         "name": "year",
         "rawType": "int64",
         "type": "integer"
        },
        {
         "name": "selling_price",
         "rawType": "int64",
         "type": "integer"
        },
        {
         "name": "km_driven",
         "rawType": "int64",
         "type": "integer"
        },
        {
         "name": "fuel",
         "rawType": "object",
         "type": "string"
        },
        {
         "name": "seller_type",
         "rawType": "object",
         "type": "string"
        },
        {
         "name": "transmission",
         "rawType": "object",
         "type": "string"
        },
        {
         "name": "owner",
         "rawType": "object",
         "type": "string"
        },
        {
         "name": "selling_price_original",
         "rawType": "int64",
         "type": "integer"
        },
        {
         "name": "brand",
         "rawType": "object",
         "type": "string"
        }
       ],
       "ref": "8ca132a2-800f-4b04-8be5-98087680a3f1",
       "rows": [
        [
         "0",
         "2007",
         "60000",
         "70000",
         "Petrol",
         "Individual",
         "Manual",
         "First Owner",
         "60000",
         "Maruti"
        ],
        [
         "1",
         "2007",
         "135000",
         "50000",
         "Petrol",
         "Individual",
         "Manual",
         "First Owner",
         "135000",
         "Maruti"
        ],
        [
         "2",
         "2012",
         "600000",
         "100000",
         "Diesel",
         "Individual",
         "Manual",
         "First Owner",
         "600000",
         "Hyundai"
        ],
        [
         "3",
         "2017",
         "250000",
         "46000",
         "Petrol",
         "Individual",
         "Manual",
         "First Owner",
         "250000",
         "Datsun"
        ],
        [
         "4",
         "2014",
         "450000",
         "141000",
         "Diesel",
         "Individual",
         "Manual",
         "Second Owner",
         "450000",
         "Honda"
        ]
       ],
       "shape": {
        "columns": 9,
        "rows": 5
       }
      },
      "text/html": [
       "<div>\n",
       "<style scoped>\n",
       "    .dataframe tbody tr th:only-of-type {\n",
       "        vertical-align: middle;\n",
       "    }\n",
       "\n",
       "    .dataframe tbody tr th {\n",
       "        vertical-align: top;\n",
       "    }\n",
       "\n",
       "    .dataframe thead th {\n",
       "        text-align: right;\n",
       "    }\n",
       "</style>\n",
       "<table border=\"1\" class=\"dataframe\">\n",
       "  <thead>\n",
       "    <tr style=\"text-align: right;\">\n",
       "      <th></th>\n",
       "      <th>year</th>\n",
       "      <th>selling_price</th>\n",
       "      <th>km_driven</th>\n",
       "      <th>fuel</th>\n",
       "      <th>seller_type</th>\n",
       "      <th>transmission</th>\n",
       "      <th>owner</th>\n",
       "      <th>selling_price_original</th>\n",
       "      <th>brand</th>\n",
       "    </tr>\n",
       "  </thead>\n",
       "  <tbody>\n",
       "    <tr>\n",
       "      <th>0</th>\n",
       "      <td>2007</td>\n",
       "      <td>60000</td>\n",
       "      <td>70000</td>\n",
       "      <td>Petrol</td>\n",
       "      <td>Individual</td>\n",
       "      <td>Manual</td>\n",
       "      <td>First Owner</td>\n",
       "      <td>60000</td>\n",
       "      <td>Maruti</td>\n",
       "    </tr>\n",
       "    <tr>\n",
       "      <th>1</th>\n",
       "      <td>2007</td>\n",
       "      <td>135000</td>\n",
       "      <td>50000</td>\n",
       "      <td>Petrol</td>\n",
       "      <td>Individual</td>\n",
       "      <td>Manual</td>\n",
       "      <td>First Owner</td>\n",
       "      <td>135000</td>\n",
       "      <td>Maruti</td>\n",
       "    </tr>\n",
       "    <tr>\n",
       "      <th>2</th>\n",
       "      <td>2012</td>\n",
       "      <td>600000</td>\n",
       "      <td>100000</td>\n",
       "      <td>Diesel</td>\n",
       "      <td>Individual</td>\n",
       "      <td>Manual</td>\n",
       "      <td>First Owner</td>\n",
       "      <td>600000</td>\n",
       "      <td>Hyundai</td>\n",
       "    </tr>\n",
       "    <tr>\n",
       "      <th>3</th>\n",
       "      <td>2017</td>\n",
       "      <td>250000</td>\n",
       "      <td>46000</td>\n",
       "      <td>Petrol</td>\n",
       "      <td>Individual</td>\n",
       "      <td>Manual</td>\n",
       "      <td>First Owner</td>\n",
       "      <td>250000</td>\n",
       "      <td>Datsun</td>\n",
       "    </tr>\n",
       "    <tr>\n",
       "      <th>4</th>\n",
       "      <td>2014</td>\n",
       "      <td>450000</td>\n",
       "      <td>141000</td>\n",
       "      <td>Diesel</td>\n",
       "      <td>Individual</td>\n",
       "      <td>Manual</td>\n",
       "      <td>Second Owner</td>\n",
       "      <td>450000</td>\n",
       "      <td>Honda</td>\n",
       "    </tr>\n",
       "  </tbody>\n",
       "</table>\n",
       "</div>"
      ],
      "text/plain": [
       "   year  selling_price  km_driven    fuel seller_type transmission  \\\n",
       "0  2007          60000      70000  Petrol  Individual       Manual   \n",
       "1  2007         135000      50000  Petrol  Individual       Manual   \n",
       "2  2012         600000     100000  Diesel  Individual       Manual   \n",
       "3  2017         250000      46000  Petrol  Individual       Manual   \n",
       "4  2014         450000     141000  Diesel  Individual       Manual   \n",
       "\n",
       "          owner  selling_price_original    brand  \n",
       "0   First Owner                   60000   Maruti  \n",
       "1   First Owner                  135000   Maruti  \n",
       "2   First Owner                  600000  Hyundai  \n",
       "3   First Owner                  250000   Datsun  \n",
       "4  Second Owner                  450000    Honda  "
      ]
     },
     "execution_count": 7,
     "metadata": {},
     "output_type": "execute_result"
    }
   ],
   "source": [
    "df.head()"
   ]
  },
  {
   "cell_type": "code",
   "execution_count": 8,
   "id": "26320319",
   "metadata": {},
   "outputs": [
    {
     "name": "stdout",
     "output_type": "stream",
     "text": [
      "brand\n",
      "Maruti           1280\n",
      "Hyundai           821\n",
      "Mahindra          365\n",
      "Tata              361\n",
      "Honda             252\n",
      "Ford              238\n",
      "Toyota            206\n",
      "Chevrolet         188\n",
      "Renault           146\n",
      "Volkswagen        107\n",
      "Skoda              68\n",
      "Nissan             64\n",
      "Audi               60\n",
      "BMW                39\n",
      "Fiat               37\n",
      "Datsun             37\n",
      "Mercedes-Benz      35\n",
      "Mitsubishi          6\n",
      "Jaguar              6\n",
      "Land                5\n",
      "Name: count, dtype: int64\n",
      "Shape: (4340, 9)\n",
      "year                      0\n",
      "selling_price             0\n",
      "km_driven                 0\n",
      "fuel                      0\n",
      "seller_type               0\n",
      "transmission              0\n",
      "owner                     0\n",
      "selling_price_original    0\n",
      "brand                     0\n",
      "dtype: int64\n",
      "count    4.340000e+03\n",
      "mean     5.041273e+05\n",
      "std      5.785487e+05\n",
      "min      2.000000e+04\n",
      "25%      2.087498e+05\n",
      "50%      3.500000e+05\n",
      "75%      6.000000e+05\n",
      "max      8.900000e+06\n",
      "Name: selling_price, dtype: float64\n"
     ]
    },
    {
     "data": {
      "text/plain": [
       "<Axes: >"
      ]
     },
     "execution_count": 8,
     "metadata": {},
     "output_type": "execute_result"
    },
    {
     "data": {
      "image/png": "[encoded data removed]",
      "text/plain": [
       "<Figure size 640x480 with 1 Axes>"
      ]
     },
     "metadata": {},
     "output_type": "display_data"
    }
   ],
   "source": [
    "print(df['brand'].value_counts().head(20))\n",
    "\n",
    "# inspect missing values and shapes\n",
    "print(\"Shape:\", df.shape)\n",
    "print(df.isnull().sum())\n",
    "\n",
    "# look at target distribution\n",
    "print(df['selling_price'].describe())\n",
    "df['selling_price'].hist(bins=50)"
   ]
  },
  {
   "cell_type": "code",
   "execution_count": 9,
   "id": "3979c711",
   "metadata": {},
   "outputs": [],
   "source": [
    "# Remove Duplicates\n",
    "initial_rows = df.shape[0]\n",
    "df.drop_duplicates(inplace=True)\n",
    "\n",
    "# Handle Missing Values\n",
    "if df.isnull().sum().any():\n",
    "    for col in NUMERICAL_FEATURES:\n",
    "        df[col].fillna(df[col].median(), inplace=True)\n",
    "    for col in CATEGORICAL_FEATURES:\n",
    "        df[col].fillna(df[col].mode()[0], inplace=True)"
   ]
  },
  {
   "cell_type": "code",
   "execution_count": 10,
   "id": "438e75b6",
   "metadata": {},
   "outputs": [
    {
     "name": "stdout",
     "output_type": "stream",
     "text": [
      "selling_price | lower: -400000.00, upper: 1200000.00\n",
      "km_driven | lower: -35507.50, upper: 165304.50\n",
      "Removed 291 outliers from the dataset.\n"
     ]
    }
   ],
   "source": [
    "before = df.shape[0]\n",
    "\n",
    "for col in ['selling_price', 'km_driven']:\n",
    "    Q1 = df[col].quantile(0.25)\n",
    "    Q3 = df[col].quantile(0.75)\n",
    "    IQR = Q3 - Q1\n",
    "    lower = Q1 - 1.5 * IQR\n",
    "    upper = Q3 + 1.5 * IQR\n",
    "    print(f\"{col} | lower: {lower:.2f}, upper: {upper:.2f}\")\n",
    "    \n",
    "    # Filter out outliers\n",
    "    df = df[(df[col] >= lower) & (df[col] <= upper)]\n",
    "\n",
    "after = df.shape[0]\n",
    "print(f\"Removed {before - after} outliers from the dataset.\")"
   ]
  },
  {
   "cell_type": "code",
   "execution_count": 11,
   "id": "6607861f",
   "metadata": {},
   "outputs": [
    {
     "name": "stdout",
     "output_type": "stream",
     "text": [
      "brand\n",
      "Maruti           1040\n",
      "Hyundai           613\n",
      "Tata              288\n",
      "Mahindra          269\n",
      "Honda             209\n",
      "Ford              201\n",
      "Chevrolet         147\n",
      "Toyota            109\n",
      "Renault           106\n",
      "Volkswagen         90\n",
      "Nissan             50\n",
      "Skoda              47\n",
      "Fiat               31\n",
      "Datsun             29\n",
      "Mercedes-Benz       8\n",
      "Audi                6\n",
      "BMW                 6\n",
      "Mitsubishi          3\n",
      "Ambassador          3\n",
      "OpelCorsa           2\n",
      "Name: count, dtype: int64\n",
      "Shape: (3259, 9)\n",
      "year                      0\n",
      "selling_price             0\n",
      "km_driven                 0\n",
      "fuel                      0\n",
      "seller_type               0\n",
      "transmission              0\n",
      "owner                     0\n",
      "selling_price_original    0\n",
      "brand                     0\n",
      "dtype: int64\n",
      "count    3.259000e+03\n",
      "mean     3.929040e+05\n",
      "std      2.537223e+05\n",
      "min      2.000000e+04\n",
      "25%      1.950000e+05\n",
      "50%      3.300000e+05\n",
      "75%      5.500000e+05\n",
      "max      1.200000e+06\n",
      "Name: selling_price, dtype: float64\n"
     ]
    },
    {
     "data": {
      "text/plain": [
       "<Axes: >"
      ]
     },
     "execution_count": 11,
     "metadata": {},
     "output_type": "execute_result"
    },
    {
     "data": {
      "image/png": "[encoded data removed]",
      "text/plain": [
       "<Figure size 640x480 with 1 Axes>"
      ]
     },
     "metadata": {},
     "output_type": "display_data"
    }
   ],
   "source": [
    "# confirm brand extraction worked\n",
    "print(df['brand'].value_counts().head(20))\n",
    "\n",
    "# inspect missing values and shapes\n",
    "print(\"Shape:\", df.shape)\n",
    "print(df.isnull().sum())\n",
    "\n",
    "# look at target distribution\n",
    "print(df['selling_price'].describe())\n",
    "df['selling_price'].hist(bins=50)\n"
   ]
  },
  {
   "cell_type": "code",
   "execution_count": 12,
   "id": "4d6a7c0b",
   "metadata": {},
   "outputs": [],
   "source": [
    "# One-Hot Encoding for Categorical Features\n",
    "df_encoded = pd.get_dummies(df, columns=CATEGORICAL_FEATURES, drop_first=True, dtype=int)\n",
    "\n",
    "# Identify the columns that need scaling (numerical, excluding the target)\n",
    "features_to_scale = [col for col in df_encoded.columns if col in NUMERICAL_FEATURES]\n",
    "\n",
    "# Scale features to [-1, 1]\n",
    "scaler = MinMaxScaler(feature_range=(-1, 1))\n",
    "\n",
    "df_encoded[features_to_scale] = scaler.fit_transform(df_encoded[features_to_scale])"
   ]
  },
  {
   "cell_type": "code",
   "execution_count": 13,
   "id": "526ce405",
   "metadata": {},
   "outputs": [],
   "source": [
    "df_encoded.to_csv(\"../data/processed_vehicles.csv\", index=False)"
   ]
  },
  {
   "cell_type": "code",
   "execution_count": 14,
   "id": "55293ae6",
   "metadata": {},
   "outputs": [
    {
     "data": {
      "application/vnd.microsoft.datawrangler.viewer.v0+json": {
       "columns": [
        {
         "name": "index",
         "rawType": "int64",
         "type": "integer"
        },
        {
         "name": "year",
         "rawType": "float64",
         "type": "float"
        },
        {
         "name": "selling_price",
         "rawType": "float64",
         "type": "float"
        },
        {
         "name": "km_driven",
         "rawType": "float64",
         "type": "float"
        },
        {
         "name": "selling_price_original",
         "rawType": "int64",
         "type": "integer"
        },
        {
         "name": "fuel_Diesel",
         "rawType": "int64",
         "type": "integer"
        },
        {
         "name": "fuel_Electric",
         "rawType": "int64",
         "type": "integer"
        },
        {
         "name": "fuel_LPG",
         "rawType": "int64",
         "type": "integer"
        },
        {
         "name": "fuel_Petrol",
         "rawType": "int64",
         "type": "integer"
        },
        {
         "name": "seller_type_Individual",
         "rawType": "int64",
         "type": "integer"
        },
        {
         "name": "seller_type_Trustmark Dealer",
         "rawType": "int64",
         "type": "integer"
        },
        {
         "name": "transmission_Manual",
         "rawType": "int64",
         "type": "integer"
        },
        {
         "name": "owner_Fourth & Above Owner",
         "rawType": "int64",
         "type": "integer"
        },
        {
         "name": "owner_Second Owner",
         "rawType": "int64",
         "type": "integer"
        },
        {
         "name": "owner_Test Drive Car",
         "rawType": "int64",
         "type": "integer"
        },
        {
         "name": "owner_Third Owner",
         "rawType": "int64",
         "type": "integer"
        },
        {
         "name": "brand_Audi",
         "rawType": "int64",
         "type": "integer"
        },
        {
         "name": "brand_BMW",
         "rawType": "int64",
         "type": "integer"
        },
        {
         "name": "brand_Chevrolet",
         "rawType": "int64",
         "type": "integer"
        },
        {
         "name": "brand_Daewoo",
         "rawType": "int64",
         "type": "integer"
        },
        {
         "name": "brand_Datsun",
         "rawType": "int64",
         "type": "integer"
        },
        {
         "name": "brand_Fiat",
         "rawType": "int64",
         "type": "integer"
        },
        {
         "name": "brand_Force",
         "rawType": "int64",
         "type": "integer"
        },
        {
         "name": "brand_Ford",
         "rawType": "int64",
         "type": "integer"
        },
        {
         "name": "brand_Honda",
         "rawType": "int64",
         "type": "integer"
        },
        {
         "name": "brand_Hyundai",
         "rawType": "int64",
         "type": "integer"
        },
        {
         "name": "brand_Mahindra",
         "rawType": "int64",
         "type": "integer"
        },
        {
         "name": "brand_Maruti",
         "rawType": "int64",
         "type": "integer"
        },
        {
         "name": "brand_Mercedes-Benz",
         "rawType": "int64",
         "type": "integer"
        },
        {
         "name": "brand_Mitsubishi",
         "rawType": "int64",
         "type": "integer"
        },
        {
         "name": "brand_Nissan",
         "rawType": "int64",
         "type": "integer"
        },
        {
         "name": "brand_OpelCorsa",
         "rawType": "int64",
         "type": "integer"
        },
        {
         "name": "brand_Renault",
         "rawType": "int64",
         "type": "integer"
        },
        {
         "name": "brand_Skoda",
         "rawType": "int64",
         "type": "integer"
        },
        {
         "name": "brand_Tata",
         "rawType": "int64",
         "type": "integer"
        },
        {
         "name": "brand_Toyota",
         "rawType": "int64",
         "type": "integer"
        },
        {
         "name": "brand_Volkswagen",
         "rawType": "int64",
         "type": "integer"
        }
       ],
       "ref": "91888c33-1bc4-447c-ba41-c62b57953378",
       "rows": [
        [
         "0",
         "0.07142857142858361",
         "-0.9322033898305084",
         "-0.15152213043715412",
         "60000",
         "0",
         "0",
         "0",
         "1",
         "1",
         "0",
         "1",
         "0",
         "0",
         "0",
         "0",
         "0",
         "0",
         "0",
         "0",
         "0",
         "0",
         "0",
         "0",
         "0",
         "0",
         "0",
         "1",
         "0",
         "0",
         "0",
         "0",
         "0",
         "0",
         "0",
         "0",
         "0"
        ],
        [
         "1",
         "0.07142857142858361",
         "-0.8050847457627117",
         "-0.39394784210813394",
         "135000",
         "0",
         "0",
         "0",
         "1",
         "1",
         "0",
         "1",
         "0",
         "0",
         "0",
         "0",
         "0",
         "0",
         "0",
         "0",
         "0",
         "0",
         "0",
         "0",
         "0",
         "0",
         "0",
         "1",
         "0",
         "0",
         "0",
         "0",
         "0",
         "0",
         "0",
         "0",
         "0"
        ],
        [
         "2",
         "0.4285714285714164",
         "-0.016949152542372836",
         "0.2121164370693156",
         "600000",
         "1",
         "0",
         "0",
         "0",
         "1",
         "0",
         "1",
         "0",
         "0",
         "0",
         "0",
         "0",
         "0",
         "0",
         "0",
         "0",
         "0",
         "0",
         "0",
         "0",
         "1",
         "0",
         "0",
         "0",
         "0",
         "0",
         "0",
         "0",
         "0",
         "0",
         "0",
         "0"
        ],
        [
         "3",
         "0.7857142857142776",
         "-0.6101694915254237",
         "-0.4424329844423299",
         "250000",
         "0",
         "0",
         "0",
         "1",
         "1",
         "0",
         "1",
         "0",
         "0",
         "0",
         "0",
         "0",
         "0",
         "0",
         "0",
         "1",
         "0",
         "0",
         "0",
         "0",
         "0",
         "0",
         "0",
         "0",
         "0",
         "0",
         "0",
         "0",
         "0",
         "0",
         "0",
         "0"
        ],
        [
         "4",
         "0.5714285714285836",
         "-0.27118644067796605",
         "0.7090891459948243",
         "450000",
         "1",
         "0",
         "0",
         "0",
         "1",
         "0",
         "1",
         "0",
         "1",
         "0",
         "0",
         "0",
         "0",
         "0",
         "0",
         "0",
         "0",
         "0",
         "0",
         "1",
         "0",
         "0",
         "0",
         "0",
         "0",
         "0",
         "0",
         "0",
         "0",
         "0",
         "0",
         "0"
        ]
       ],
       "shape": {
        "columns": 36,
        "rows": 5
       }
      },
      "text/html": [
       "<div>\n",
       "<style scoped>\n",
       "    .dataframe tbody tr th:only-of-type {\n",
       "        vertical-align: middle;\n",
       "    }\n",
       "\n",
       "    .dataframe tbody tr th {\n",
       "        vertical-align: top;\n",
       "    }\n",
       "\n",
       "    .dataframe thead th {\n",
       "        text-align: right;\n",
       "    }\n",
       "</style>\n",
       "<table border=\"1\" class=\"dataframe\">\n",
       "  <thead>\n",
       "    <tr style=\"text-align: right;\">\n",
       "      <th></th>\n",
       "      <th>year</th>\n",
       "      <th>selling_price</th>\n",
       "      <th>km_driven</th>\n",
       "      <th>selling_price_original</th>\n",
       "      <th>fuel_Diesel</th>\n",
       "      <th>fuel_Electric</th>\n",
       "      <th>fuel_LPG</th>\n",
       "      <th>fuel_Petrol</th>\n",
       "      <th>seller_type_Individual</th>\n",
       "      <th>seller_type_Trustmark Dealer</th>\n",
       "      <th>...</th>\n",
       "      <th>brand_Maruti</th>\n",
       "      <th>brand_Mercedes-Benz</th>\n",
       "      <th>brand_Mitsubishi</th>\n",
       "      <th>brand_Nissan</th>\n",
       "      <th>brand_OpelCorsa</th>\n",
       "      <th>brand_Renault</th>\n",
       "      <th>brand_Skoda</th>\n",
       "      <th>brand_Tata</th>\n",
       "      <th>brand_Toyota</th>\n",
       "      <th>brand_Volkswagen</th>\n",
       "    </tr>\n",
       "  </thead>\n",
       "  <tbody>\n",
       "    <tr>\n",
       "      <th>0</th>\n",
       "      <td>0.071429</td>\n",
       "      <td>-0.932203</td>\n",
       "      <td>-0.151522</td>\n",
       "      <td>60000</td>\n",
       "      <td>0</td>\n",
       "      <td>0</td>\n",
       "      <td>0</td>\n",
       "      <td>1</td>\n",
       "      <td>1</td>\n",
       "      <td>0</td>\n",
       "      <td>...</td>\n",
       "      <td>1</td>\n",
       "      <td>0</td>\n",
       "      <td>0</td>\n",
       "      <td>0</td>\n",
       "      <td>0</td>\n",
       "      <td>0</td>\n",
       "      <td>0</td>\n",
       "      <td>0</td>\n",
       "      <td>0</td>\n",
       "      <td>0</td>\n",
       "    </tr>\n",
       "    <tr>\n",
       "      <th>1</th>\n",
       "      <td>0.071429</td>\n",
       "      <td>-0.805085</td>\n",
       "      <td>-0.393948</td>\n",
       "      <td>135000</td>\n",
       "      <td>0</td>\n",
       "      <td>0</td>\n",
       "      <td>0</td>\n",
       "      <td>1</td>\n",
       "      <td>1</td>\n",
       "      <td>0</td>\n",
       "      <td>...</td>\n",
       "      <td>1</td>\n",
       "      <td>0</td>\n",
       "      <td>0</td>\n",
       "      <td>0</td>\n",
       "      <td>0</td>\n",
       "      <td>0</td>\n",
       "      <td>0</td>\n",
       "      <td>0</td>\n",
       "      <td>0</td>\n",
       "      <td>0</td>\n",
       "    </tr>\n",
       "    <tr>\n",
       "      <th>2</th>\n",
       "      <td>0.428571</td>\n",
       "      <td>-0.016949</td>\n",
       "      <td>0.212116</td>\n",
       "      <td>600000</td>\n",
       "      <td>1</td>\n",
       "      <td>0</td>\n",
       "      <td>0</td>\n",
       "      <td>0</td>\n",
       "      <td>1</td>\n",
       "      <td>0</td>\n",
       "      <td>...</td>\n",
       "      <td>0</td>\n",
       "      <td>0</td>\n",
       "      <td>0</td>\n",
       "      <td>0</td>\n",
       "      <td>0</td>\n",
       "      <td>0</td>\n",
       "      <td>0</td>\n",
       "      <td>0</td>\n",
       "      <td>0</td>\n",
       "      <td>0</td>\n",
       "    </tr>\n",
       "    <tr>\n",
       "      <th>3</th>\n",
       "      <td>0.785714</td>\n",
       "      <td>-0.610169</td>\n",
       "      <td>-0.442433</td>\n",
       "      <td>250000</td>\n",
       "      <td>0</td>\n",
       "      <td>0</td>\n",
       "      <td>0</td>\n",
       "      <td>1</td>\n",
       "      <td>1</td>\n",
       "      <td>0</td>\n",
       "      <td>...</td>\n",
       "      <td>0</td>\n",
       "      <td>0</td>\n",
       "      <td>0</td>\n",
       "      <td>0</td>\n",
       "      <td>0</td>\n",
       "      <td>0</td>\n",
       "      <td>0</td>\n",
       "      <td>0</td>\n",
       "      <td>0</td>\n",
       "      <td>0</td>\n",
       "    </tr>\n",
       "    <tr>\n",
       "      <th>4</th>\n",
       "      <td>0.571429</td>\n",
       "      <td>-0.271186</td>\n",
       "      <td>0.709089</td>\n",
       "      <td>450000</td>\n",
       "      <td>1</td>\n",
       "      <td>0</td>\n",
       "      <td>0</td>\n",
       "      <td>0</td>\n",
       "      <td>1</td>\n",
       "      <td>0</td>\n",
       "      <td>...</td>\n",
       "      <td>0</td>\n",
       "      <td>0</td>\n",
       "      <td>0</td>\n",
       "      <td>0</td>\n",
       "      <td>0</td>\n",
       "      <td>0</td>\n",
       "      <td>0</td>\n",
       "      <td>0</td>\n",
       "      <td>0</td>\n",
       "      <td>0</td>\n",
       "    </tr>\n",
       "  </tbody>\n",
       "</table>\n",
       "<p>5 rows × 36 columns</p>\n",
       "</div>"
      ],
      "text/plain": [
       "       year  selling_price  km_driven  selling_price_original  fuel_Diesel  \\\n",
       "0  0.071429      -0.932203  -0.151522                   60000            0   \n",
       "1  0.071429      -0.805085  -0.393948                  135000            0   \n",
       "2  0.428571      -0.016949   0.212116                  600000            1   \n",
       "3  0.785714      -0.610169  -0.442433                  250000            0   \n",
       "4  0.571429      -0.271186   0.709089                  450000            1   \n",
       "\n",
       "   fuel_Electric  fuel_LPG  fuel_Petrol  seller_type_Individual  \\\n",
       "0              0         0            1                       1   \n",
       "1              0         0            1                       1   \n",
       "2              0         0            0                       1   \n",
       "3              0         0            1                       1   \n",
       "4              0         0            0                       1   \n",
       "\n",
       "   seller_type_Trustmark Dealer  ...  brand_Maruti  brand_Mercedes-Benz  \\\n",
       "0                             0  ...             1                    0   \n",
       "1                             0  ...             1                    0   \n",
       "2                             0  ...             0                    0   \n",
       "3                             0  ...             0                    0   \n",
       "4                             0  ...             0                    0   \n",
       "\n",
       "   brand_Mitsubishi  brand_Nissan  brand_OpelCorsa  brand_Renault  \\\n",
       "0                 0             0                0              0   \n",
       "1                 0             0                0              0   \n",
       "2                 0             0                0              0   \n",
       "3                 0             0                0              0   \n",
       "4                 0             0                0              0   \n",
       "\n",
       "   brand_Skoda  brand_Tata  brand_Toyota  brand_Volkswagen  \n",
       "0            0           0             0                 0  \n",
       "1            0           0             0                 0  \n",
       "2            0           0             0                 0  \n",
       "3            0           0             0                 0  \n",
       "4            0           0             0                 0  \n",
       "\n",
       "[5 rows x 36 columns]"
      ]
     },
     "execution_count": 14,
     "metadata": {},
     "output_type": "execute_result"
    }
   ],
   "source": [
    "df_encoded.head()"
   ]
  }
 ],
 "metadata": {
  "kernelspec": {
   "display_name": "venv",
   "language": "python",
   "name": "python3"
  },
  "language_info": {
   "codemirror_mode": {
    "name": "ipython",
    "version": 3
   },
   "file_extension": ".py",
   "mimetype": "text/x-python",
   "name": "python",
   "nbconvert_exporter": "python",
   "pygments_lexer": "ipython3",
   "version": "3.12.10"
  }
 },
 "nbformat": 4,
 "nbformat_minor": 5
}
